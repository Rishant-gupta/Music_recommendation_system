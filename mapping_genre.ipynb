{
  "nbformat": 4,
  "nbformat_minor": 0,
  "metadata": {
    "colab": {
      "provenance": []
    },
    "kernelspec": {
      "name": "python3",
      "display_name": "Python 3"
    },
    "language_info": {
      "name": "python"
    }
  },
  "cells": [
    {
      "cell_type": "code",
      "execution_count": 1,
      "metadata": {
        "id": "kOByLqHMoqcP"
      },
      "outputs": [],
      "source": [
        "import pandas as pd\n",
        "import numpy as np"
      ]
    },
    {
      "cell_type": "code",
      "source": [
        "df = pd.read_csv(\"/content/dataset.csv\")"
      ],
      "metadata": {
        "id": "OBPJU9YLpJJY"
      },
      "execution_count": 2,
      "outputs": []
    },
    {
      "cell_type": "code",
      "source": [
        "df.track_genre.value_counts()"
      ],
      "metadata": {
        "colab": {
          "base_uri": "https://localhost:8080/",
          "height": 489
        },
        "id": "D-rZNAQCppXl",
        "outputId": "dea88ce8-41e2-479a-9172-6f85b8327c60"
      },
      "execution_count": 8,
      "outputs": [
        {
          "output_type": "execute_result",
          "data": {
            "text/plain": [
              "track_genre\n",
              "acoustic       1000\n",
              "afrobeat       1000\n",
              "alt-rock       1000\n",
              "alternative    1000\n",
              "ambient        1000\n",
              "               ... \n",
              "techno         1000\n",
              "trance         1000\n",
              "trip-hop       1000\n",
              "turkish        1000\n",
              "world-music    1000\n",
              "Name: count, Length: 114, dtype: int64"
            ],
            "text/html": [
              "<div>\n",
              "<style scoped>\n",
              "    .dataframe tbody tr th:only-of-type {\n",
              "        vertical-align: middle;\n",
              "    }\n",
              "\n",
              "    .dataframe tbody tr th {\n",
              "        vertical-align: top;\n",
              "    }\n",
              "\n",
              "    .dataframe thead th {\n",
              "        text-align: right;\n",
              "    }\n",
              "</style>\n",
              "<table border=\"1\" class=\"dataframe\">\n",
              "  <thead>\n",
              "    <tr style=\"text-align: right;\">\n",
              "      <th></th>\n",
              "      <th>count</th>\n",
              "    </tr>\n",
              "    <tr>\n",
              "      <th>track_genre</th>\n",
              "      <th></th>\n",
              "    </tr>\n",
              "  </thead>\n",
              "  <tbody>\n",
              "    <tr>\n",
              "      <th>acoustic</th>\n",
              "      <td>1000</td>\n",
              "    </tr>\n",
              "    <tr>\n",
              "      <th>afrobeat</th>\n",
              "      <td>1000</td>\n",
              "    </tr>\n",
              "    <tr>\n",
              "      <th>alt-rock</th>\n",
              "      <td>1000</td>\n",
              "    </tr>\n",
              "    <tr>\n",
              "      <th>alternative</th>\n",
              "      <td>1000</td>\n",
              "    </tr>\n",
              "    <tr>\n",
              "      <th>ambient</th>\n",
              "      <td>1000</td>\n",
              "    </tr>\n",
              "    <tr>\n",
              "      <th>...</th>\n",
              "      <td>...</td>\n",
              "    </tr>\n",
              "    <tr>\n",
              "      <th>techno</th>\n",
              "      <td>1000</td>\n",
              "    </tr>\n",
              "    <tr>\n",
              "      <th>trance</th>\n",
              "      <td>1000</td>\n",
              "    </tr>\n",
              "    <tr>\n",
              "      <th>trip-hop</th>\n",
              "      <td>1000</td>\n",
              "    </tr>\n",
              "    <tr>\n",
              "      <th>turkish</th>\n",
              "      <td>1000</td>\n",
              "    </tr>\n",
              "    <tr>\n",
              "      <th>world-music</th>\n",
              "      <td>1000</td>\n",
              "    </tr>\n",
              "  </tbody>\n",
              "</table>\n",
              "<p>114 rows × 1 columns</p>\n",
              "</div><br><label><b>dtype:</b> int64</label>"
            ]
          },
          "metadata": {},
          "execution_count": 8
        }
      ]
    },
    {
      "cell_type": "code",
      "source": [
        "all_genres = df['track_genre'].unique()\n",
        "all_genres.sort()  #sorted accoding to alphabate\n",
        "print(all_genres)"
      ],
      "metadata": {
        "colab": {
          "base_uri": "https://localhost:8080/"
        },
        "id": "OLRjwCj9qSWJ",
        "outputId": "32b5a4b8-68cc-46c4-e3a9-6869a480689b"
      },
      "execution_count": 23,
      "outputs": [
        {
          "output_type": "stream",
          "name": "stdout",
          "text": [
            "['acoustic' 'afrobeat' 'alt-rock' 'alternative' 'ambient' 'anime'\n",
            " 'black-metal' 'bluegrass' 'blues' 'brazil' 'breakbeat' 'british'\n",
            " 'cantopop' 'chicago-house' 'children' 'chill' 'classical' 'club' 'comedy'\n",
            " 'country' 'dance' 'dancehall' 'death-metal' 'deep-house' 'detroit-techno'\n",
            " 'disco' 'disney' 'drum-and-bass' 'dub' 'dubstep' 'edm' 'electro'\n",
            " 'electronic' 'emo' 'folk' 'forro' 'french' 'funk' 'garage' 'german'\n",
            " 'gospel' 'goth' 'grindcore' 'groove' 'grunge' 'guitar' 'happy'\n",
            " 'hard-rock' 'hardcore' 'hardstyle' 'heavy-metal' 'hip-hop' 'honky-tonk'\n",
            " 'house' 'idm' 'indian' 'indie' 'indie-pop' 'industrial' 'iranian'\n",
            " 'j-dance' 'j-idol' 'j-pop' 'j-rock' 'jazz' 'k-pop' 'kids' 'latin'\n",
            " 'latino' 'malay' 'mandopop' 'metal' 'metalcore' 'minimal-techno' 'mpb'\n",
            " 'new-age' 'opera' 'pagode' 'party' 'piano' 'pop' 'pop-film' 'power-pop'\n",
            " 'progressive-house' 'psych-rock' 'punk' 'punk-rock' 'r-n-b' 'reggae'\n",
            " 'reggaeton' 'rock' 'rock-n-roll' 'rockabilly' 'romance' 'sad' 'salsa'\n",
            " 'samba' 'sertanejo' 'show-tunes' 'singer-songwriter' 'ska' 'sleep'\n",
            " 'songwriter' 'soul' 'spanish' 'study' 'swedish' 'synth-pop' 'tango'\n",
            " 'techno' 'trance' 'trip-hop' 'turkish' 'world-music']\n"
          ]
        }
      ]
    },
    {
      "cell_type": "code",
      "source": [
        "#Genre Mapping Dictionary\n",
        "# All 114 sub-genres are now mapped to 9 main categories.\n",
        "\n",
        "genre_mapping = {\n",
        "    # 1. Pop\n",
        "    'pop': 'Pop',\n",
        "    'j-pop': 'Pop',\n",
        "    'k-pop': 'Pop',\n",
        "    'mandopop': 'Pop',\n",
        "    'cantopop': 'Pop',\n",
        "    'indie-pop': 'Pop',\n",
        "    'power-pop': 'Pop',\n",
        "    'pop-film': 'Pop',\n",
        "    'synth-pop': 'Pop',\n",
        "    'j-idol': 'Pop',\n",
        "\n",
        "    #2. Rock\n",
        "    'rock': 'Rock',\n",
        "    'alt-rock': 'Rock',\n",
        "    'alternative': 'Rock',\n",
        "    'black-metal': 'Rock',\n",
        "    'death-metal': 'Rock',\n",
        "    'emo': 'Rock',\n",
        "    'goth': 'Rock',\n",
        "    'grindcore': 'Rock',\n",
        "    'grunge': 'Rock',\n",
        "    'hard-rock': 'Rock',\n",
        "    'hardcore': 'Rock',\n",
        "    'heavy-metal': 'Rock',\n",
        "    'j-rock': 'Rock',\n",
        "    'metal': 'Rock',\n",
        "    'metalcore': 'Rock',\n",
        "    'punk': 'Rock',\n",
        "    'punk-rock': 'Rock',\n",
        "    'psych-rock': 'Rock',\n",
        "    'rock-n-roll': 'Rock',\n",
        "    'rockabilly': 'Rock',\n",
        "    'indie': 'Rock',\n",
        "\n",
        "    #3. Electronic / Dance\n",
        "    'electronic': 'Electronic/Dance',\n",
        "    'ambient': 'Electronic/Dance',\n",
        "    'breakbeat': 'Electronic/Dance',\n",
        "    'chicago-house': 'Electronic/Dance',\n",
        "    'chill': 'Electronic/Dance',\n",
        "    'club': 'Electronic/Dance',\n",
        "    'dance': 'Electronic/Dance',\n",
        "    'deep-house': 'Electronic/Dance',\n",
        "    'detroit-techno': 'Electronic/Dance',\n",
        "    'disco': 'Electronic/Dance',\n",
        "    'drum-and-bass': 'Electronic/Dance',\n",
        "    'dub': 'Electronic/Dance',\n",
        "    'dubstep': 'Electronic/Dance',\n",
        "    'edm': 'Electronic/Dance',\n",
        "    'electro': 'Electronic/Dance',\n",
        "    'garage': 'Electronic/Dance',\n",
        "    'hardstyle': 'Electronic/Dance',\n",
        "    'house': 'Electronic/Dance',\n",
        "    'idm': 'Electronic/Dance',\n",
        "    'j-dance': 'Electronic/Dance',\n",
        "    'minimal-techno': 'Electronic/Dance',\n",
        "    'progressive-house': 'Electronic/Dance',\n",
        "    'techno': 'Electronic/Dance',\n",
        "    'trance': 'Electronic/Dance',\n",
        "    'trip-hop': 'Electronic/Dance',\n",
        "\n",
        "    #4. Hip-Hop / R&B\n",
        "    'hip-hop': 'Hip-Hop/R&B',\n",
        "    'r-n-b': 'Hip-Hop/R&B',\n",
        "\n",
        "    #5. Folk / Country / Acoustic\n",
        "    'acoustic': 'Folk/Country/Acoustic',\n",
        "    'bluegrass': 'Folk/Country/Acoustic',\n",
        "    'country': 'Folk/Country/Acoustic',\n",
        "    'folk': 'Folk/Country/Acoustic',\n",
        "    'singer-songwriter': 'Folk/Country/Acoustic',\n",
        "    'songwriter': 'Folk/Country/Acoustic',\n",
        "    'honky-tonk': 'Folk/Country/Acoustic',\n",
        "    'guitar': 'Folk/Country/Acoustic',\n",
        "    'piano': 'Folk/Country/Acoustic',\n",
        "\n",
        "    #6. Jazz / Blues / Soul / Funk\n",
        "    'blues': 'Jazz/Blues/Soul/Funk',\n",
        "    'funk': 'Jazz/Blues/Soul/Funk',\n",
        "    'groove': 'Jazz/Blues/Soul/Funk',\n",
        "    'jazz': 'Jazz/Blues/Soul/Funk',\n",
        "    'soul': 'Jazz/Blues/Soul/Funk',\n",
        "\n",
        "    #7. Classical / Opera\n",
        "    'classical': 'Classical/Opera',\n",
        "    'opera': 'Classical/Opera',\n",
        "\n",
        "  #8. World / Regional / Latin\n",
        "    'afrobeat': 'World/Regional/Latin',\n",
        "    'brazil': 'World/Regional/Latin',\n",
        "    'british': 'World/Regional/Latin',\n",
        "    'dancehall': 'World/Regional/Latin',\n",
        "    'forro': 'World/Regional/Latin',\n",
        "    'french': 'World/Regional/Latin',\n",
        "    'german': 'World/Regional/Latin',\n",
        "    'indian': 'World/Regional/Latin',\n",
        "    'iranian': 'World/Regional/Latin',\n",
        "    'latin': 'World/Regional/Latin',\n",
        "    'latino': 'World/Regional/Latin',\n",
        "    'malay': 'World/Regional/Latin',\n",
        "    'mpb': 'World/Regional/Latin',\n",
        "    'pagode': 'World/Regional/Latin',\n",
        "    'reggae': 'World/Regional/Latin',\n",
        "    'reggaeton': 'World/Regional/Latin',\n",
        "    'salsa': 'World/Regional/Latin',\n",
        "    'samba': 'World/Regional/Latin',\n",
        "    'sertanejo': 'World/Regional/Latin',\n",
        "    'ska': 'World/Regional/Latin',\n",
        "    'spanish': 'World/Regional/Latin',\n",
        "    'swedish': 'World/Regional/Latin',\n",
        "    'tango': 'World/Regional/Latin',\n",
        "    'turkish': 'World/Regional/Latin',\n",
        "    'world-music': 'World/Regional/Latin',\n",
        "\n",
        "    #9. Kids / Comedy / Mood / Other\n",
        "    'anime': 'Kids/Mood/Other',\n",
        "    'children': 'Kids/Mood/Other',\n",
        "    'comedy': 'Kids/Mood/Other',\n",
        "    'disney': 'Kids/Mood/Other',\n",
        "    'gospel': 'Kids/Mood/Other',\n",
        "    'happy': 'Kids/Mood/Other',\n",
        "    'kids': 'Kids/Mood/Other',\n",
        "    'new-age': 'Kids/Mood/Other',\n",
        "    'party': 'Kids/Mood/Other',\n",
        "    'romance': 'Kids/Mood/Other',\n",
        "    'sad': 'Kids/Mood/Other',\n",
        "    'show-tunes': 'Kids/Mood/Other',\n",
        "    'sleep': 'Kids/Mood/Other',\n",
        "    'study': 'Kids/Mood/Other',\n",
        "    'industrial': 'Kids/Mood/Other',\n",
        "}\n",
        "\n",
        "print(f\"Mapping dictionary created with {len(genre_mapping)} genres.\")"
      ],
      "metadata": {
        "colab": {
          "base_uri": "https://localhost:8080/"
        },
        "id": "QaV4Df6bqeSc",
        "outputId": "667fb0bf-7a8d-4790-e8ea-47de2d4b9237"
      },
      "execution_count": 24,
      "outputs": [
        {
          "output_type": "stream",
          "name": "stdout",
          "text": [
            "Mapping dictionary created with 114 genres.\n"
          ]
        }
      ]
    },
    {
      "cell_type": "code",
      "source": [
        "#2. Apply the mapping\n",
        "df['main_genre'] = df['track_genre'].map(genre_mapping)"
      ],
      "metadata": {
        "id": "FnU7595Oqtuf"
      },
      "execution_count": 25,
      "outputs": []
    },
    {
      "cell_type": "code",
      "source": [
        "#final counts ---\n",
        "#9 main categories.\n",
        "print(\"Final Main Genre Counts\")\n",
        "print(df['main_genre'].value_counts())"
      ],
      "metadata": {
        "colab": {
          "base_uri": "https://localhost:8080/"
        },
        "id": "jTS9iRapqv-L",
        "outputId": "38341b67-7424-49c9-e218-ab9e57631827"
      },
      "execution_count": 28,
      "outputs": [
        {
          "output_type": "stream",
          "name": "stdout",
          "text": [
            "Final Main Genre Counts\n",
            "main_genre\n",
            "World/Regional/Latin     25000\n",
            "Electronic/Dance         25000\n",
            "Rock                     21000\n",
            "Kids/Mood/Other          15000\n",
            "Pop                      10000\n",
            "Folk/Country/Acoustic     9000\n",
            "Jazz/Blues/Soul/Funk      5000\n",
            "Classical/Opera           2000\n",
            "Hip-Hop/R&B               2000\n",
            "Name: count, dtype: int64\n"
          ]
        }
      ]
    },
    {
      "cell_type": "code",
      "source": [
        "#Check for any missed genres ---\n",
        "missed_genres = df[df['main_genre'].isnull()]\n",
        "if missed_genres.empty:\n",
        "    print(\"All 114 genres are mapped. ---\")\n",
        "else:\n",
        "    print(f\"ERROR! You missed: {missed_genres['track_genre'].unique()}\")"
      ],
      "metadata": {
        "colab": {
          "base_uri": "https://localhost:8080/"
        },
        "id": "6KFjy__DqxTI",
        "outputId": "4e515bfb-b6b7-4dd1-a0b7-7ebbea17435c"
      },
      "execution_count": 33,
      "outputs": [
        {
          "output_type": "stream",
          "name": "stdout",
          "text": [
            "All 114 genres are mapped. ---\n"
          ]
        }
      ]
    },
    {
      "cell_type": "code",
      "source": [],
      "metadata": {
        "id": "KjbSSxLdswGp"
      },
      "execution_count": null,
      "outputs": []
    }
  ]
}